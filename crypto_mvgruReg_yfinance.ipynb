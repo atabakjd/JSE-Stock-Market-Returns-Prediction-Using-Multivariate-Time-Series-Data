{
  "cells": [
    {
      "cell_type": "markdown",
      "metadata": {
        "id": "view-in-github",
        "colab_type": "text"
      },
      "source": [
        "<a href=\"https://colab.research.google.com/github/atabakjd/JSE-Stock-Market-Returns-Prediction-Using-Multivariate-Time-Series-Data/blob/main/crypto_mvgruReg_yfinance.ipynb\" target=\"_parent\"><img src=\"https://colab.research.google.com/assets/colab-badge.svg\" alt=\"Open In Colab\"/></a>"
      ]
    },
    {
      "cell_type": "markdown",
      "metadata": {
        "id": "HIOxivvwbeFR"
      },
      "source": [
        "this code uses yfinance to get data"
      ]
    },
    {
      "cell_type": "code",
      "execution_count": null,
      "metadata": {
        "colab": {
          "base_uri": "https://localhost:8080/"
        },
        "id": "nR2TWmPRLwQ2",
        "outputId": "d5334128-5e39-4e08-f970-0fcda7cf2fe3"
      },
      "outputs": [
        {
          "output_type": "stream",
          "name": "stdout",
          "text": [
            "Drive already mounted at /content/drive; to attempt to forcibly remount, call drive.mount(\"/content/drive\", force_remount=True).\n"
          ]
        }
      ],
      "source": [
        "from google.colab import drive\n",
        "drive.mount('/content/drive')"
      ]
    },
    {
      "cell_type": "code",
      "source": [
        "!pip install yfinance\n",
        "!pip install yahoofinancials"
      ],
      "metadata": {
        "colab": {
          "base_uri": "https://localhost:8080/"
        },
        "id": "nALPJisSYAey",
        "outputId": "4978e751-e793-456b-ba91-303aa13dfd25"
      },
      "execution_count": null,
      "outputs": [
        {
          "output_type": "stream",
          "name": "stdout",
          "text": [
            "Looking in indexes: https://pypi.org/simple, https://us-python.pkg.dev/colab-wheels/public/simple/\n",
            "Requirement already satisfied: yfinance in /usr/local/lib/python3.7/dist-packages (0.1.74)\n",
            "Requirement already satisfied: requests>=2.26 in /usr/local/lib/python3.7/dist-packages (from yfinance) (2.28.1)\n",
            "Requirement already satisfied: lxml>=4.5.1 in /usr/local/lib/python3.7/dist-packages (from yfinance) (4.9.1)\n",
            "Requirement already satisfied: pandas>=0.24.0 in /usr/local/lib/python3.7/dist-packages (from yfinance) (1.3.5)\n",
            "Requirement already satisfied: multitasking>=0.0.7 in /usr/local/lib/python3.7/dist-packages (from yfinance) (0.0.11)\n",
            "Requirement already satisfied: numpy>=1.15 in /usr/local/lib/python3.7/dist-packages (from yfinance) (1.21.6)\n",
            "Requirement already satisfied: python-dateutil>=2.7.3 in /usr/local/lib/python3.7/dist-packages (from pandas>=0.24.0->yfinance) (2.8.2)\n",
            "Requirement already satisfied: pytz>=2017.3 in /usr/local/lib/python3.7/dist-packages (from pandas>=0.24.0->yfinance) (2022.2.1)\n",
            "Requirement already satisfied: six>=1.5 in /usr/local/lib/python3.7/dist-packages (from python-dateutil>=2.7.3->pandas>=0.24.0->yfinance) (1.15.0)\n",
            "Requirement already satisfied: charset-normalizer<3,>=2 in /usr/local/lib/python3.7/dist-packages (from requests>=2.26->yfinance) (2.1.1)\n",
            "Requirement already satisfied: certifi>=2017.4.17 in /usr/local/lib/python3.7/dist-packages (from requests>=2.26->yfinance) (2022.6.15)\n",
            "Requirement already satisfied: idna<4,>=2.5 in /usr/local/lib/python3.7/dist-packages (from requests>=2.26->yfinance) (2.10)\n",
            "Requirement already satisfied: urllib3<1.27,>=1.21.1 in /usr/local/lib/python3.7/dist-packages (from requests>=2.26->yfinance) (1.24.3)\n",
            "Looking in indexes: https://pypi.org/simple, https://us-python.pkg.dev/colab-wheels/public/simple/\n",
            "Requirement already satisfied: yahoofinancials in /usr/local/lib/python3.7/dist-packages (1.6)\n",
            "Requirement already satisfied: pytz in /usr/local/lib/python3.7/dist-packages (from yahoofinancials) (2022.2.1)\n",
            "Requirement already satisfied: beautifulsoup4 in /usr/local/lib/python3.7/dist-packages (from yahoofinancials) (4.6.3)\n"
          ]
        }
      ]
    },
    {
      "cell_type": "code",
      "execution_count": null,
      "metadata": {
        "id": "Lkoga3ThMWzP"
      },
      "outputs": [],
      "source": [
        "import yfinance as yf\n",
        "import yahoofinancials\n",
        "from math import sqrt\n",
        "import numpy\n",
        "from numpy import concatenate\n",
        "from matplotlib import pyplot\n",
        "from pandas import read_csv\n",
        "from pandas import DataFrame\n",
        "from pandas import concat\n",
        "import sklearn\n",
        "import random\n",
        "from sklearn.preprocessing import MinMaxScaler\n",
        "from sklearn.preprocessing import LabelEncoder\n",
        "from sklearn.metrics import mean_squared_error\n",
        "from keras.models import Sequential\n",
        "from keras.layers import Dense\n",
        "from keras.layers import LSTM\n",
        "from keras.layers import GRU\n",
        "from keras.layers import BatchNormalization\n",
        "from keras.callbacks import ModelCheckpoint\n",
        "from pandas import read_csv\n",
        "from datetime import datetime\n",
        "from google.colab import files"
      ]
    },
    {
      "cell_type": "code",
      "source": [
        "data=yf.download('BTC-USD', start=\"2019-07-10\", interval= \"1d\")\n",
        "print(data.head())"
      ],
      "metadata": {
        "colab": {
          "base_uri": "https://localhost:8080/"
        },
        "id": "Mc-K3WU0ZCjA",
        "outputId": "49d136be-29ae-4494-e731-3cce3424e817"
      },
      "execution_count": null,
      "outputs": [
        {
          "output_type": "stream",
          "name": "stdout",
          "text": [
            "\r[*********************100%***********************]  1 of 1 completed\n",
            "                    Open          High           Low         Close  \\\n",
            "Date                                                                 \n",
            "2019-07-10  12571.537109  13129.529297  11710.978516  12156.512695   \n",
            "2019-07-11  12139.713867  12144.623047  11158.922852  11358.662109   \n",
            "2019-07-12  11354.299805  11905.487305  11179.144531  11815.986328   \n",
            "2019-07-13  11813.126953  11841.957031  10908.479492  11392.378906   \n",
            "2019-07-14  11381.020508  11451.204102  10234.576172  10256.058594   \n",
            "\n",
            "               Adj Close       Volume  \n",
            "Date                                   \n",
            "2019-07-10  12156.512695  33627574244  \n",
            "2019-07-11  11358.662109  28595327690  \n",
            "2019-07-12  11815.986328  23534692797  \n",
            "2019-07-13  11392.378906  21042616384  \n",
            "2019-07-14  10256.058594  22486000001  \n"
          ]
        }
      ]
    },
    {
      "cell_type": "code",
      "execution_count": null,
      "metadata": {
        "colab": {
          "base_uri": "https://localhost:8080/",
          "height": 283
        },
        "id": "Z6Afi9TKMXKF",
        "outputId": "f55d53fc-b7ee-4084-b75a-696f8a8cebcf"
      },
      "outputs": [
        {
          "output_type": "stream",
          "name": "stdout",
          "text": [
            "1149\n"
          ]
        },
        {
          "output_type": "display_data",
          "data": {
            "text/plain": [
              "<Figure size 432x288 with 6 Axes>"
            ],
            "image/png": "[encoded data removed]"
          },
          "metadata": {
            "needs_background": "light"
          }
        }
      ],
      "source": [
        "# path=\"/content/drive/MyDrive/ETH-USD.csv\"\n",
        "dataset = data\n",
        "values = dataset.values\n",
        "n_values=len(values)\n",
        "print(n_values)\n",
        "# specify columns to plot\n",
        "groups = [0, 1, 2, 3, 4, 5]\n",
        "i = 1\n",
        "# plot each column\n",
        "pyplot.figure()\n",
        "for group in groups:\n",
        "\tpyplot.subplot(len(groups), 1, i)\n",
        "\tpyplot.plot(values[:, group])\n",
        "\tpyplot.title(dataset.columns[group], y=0.5, loc='right')\n",
        "\ti += 1\n",
        "pyplot.show()"
      ]
    },
    {
      "cell_type": "code",
      "execution_count": null,
      "metadata": {
        "colab": {
          "base_uri": "https://localhost:8080/"
        },
        "id": "LyUx8IC-hW3o",
        "outputId": "cb281080-7672-4f6f-bbbb-b7cecb304a10"
      },
      "outputs": [
        {
          "output_type": "stream",
          "name": "stdout",
          "text": [
            "   var1(t-1)  var2(t-1)  var3(t-1)  var4(t-1)  var5(t-1)  var6(t-1)   var1(t)  \\\n",
            "1   0.121012   0.122880   0.404181   0.114795   0.114795   0.065334  0.114108   \n",
            "2   0.114108   0.107359   0.365854   0.102049   0.102049   0.050512  0.101551   \n",
            "3   0.101551   0.103591   0.366725   0.109355   0.109355   0.035607  0.108887   \n",
            "4   0.108887   0.102590   0.358014   0.102588   0.102588   0.028267  0.101978   \n",
            "5   0.101978   0.096432   0.318815   0.084435   0.084435   0.032518  0.084021   \n",
            "\n",
            "    var2(t)   var3(t)   var4(t)   var5(t)   var6(t)  \n",
            "1  0.107359  0.365854  0.102049  0.102049  0.050512  \n",
            "2  0.103591  0.366725  0.109355  0.109355  0.035607  \n",
            "3  0.102590  0.358014  0.102588  0.102588  0.028267  \n",
            "4  0.096432  0.318815  0.084435  0.084435  0.032518  \n",
            "5  0.090153  0.292683  0.094643  0.094643  0.041054  \n"
          ]
        }
      ],
      "source": [
        "def series_to_supervised(data, n_in=1, n_out=1, dropnan=True):\n",
        "\tn_vars = 1 if type(data) is list else data.shape[1]\n",
        "\tdf = DataFrame(data)\n",
        "\tcols, names = list(), list()\n",
        "\t# input sequence (t-n, ... t-1)\n",
        "\tfor i in range(n_in, 0, -1):\n",
        "\t\tcols.append(df.shift(i))\n",
        "\t\tnames += [('var%d(t-%d)' % (j+1, i)) for j in range(n_vars)]\n",
        "\t# forecast sequence (t, t+1, ... t+n)\n",
        "\tfor i in range(0, n_out):\n",
        "\t\tcols.append(df.shift(-i))\n",
        "\t\tif i == 0:\n",
        "\t\t\tnames += [('var%d(t)' % (j+1)) for j in range(n_vars)]\n",
        "\t\telse:\n",
        "\t\t\tnames += [('var%d(t+%d)' % (j+1, i)) for j in range(n_vars)]\n",
        "\t# put it all together\n",
        "\tagg = concat(cols, axis=1)\n",
        "\tagg.columns = names\n",
        "\t# drop rows with NaN values\n",
        "\tif dropnan:\n",
        "\t\tagg.dropna(inplace=True)\n",
        "\treturn agg\n",
        "#load dataset\n",
        "#dataset = read_csv(path, header=0)\n",
        "values = dataset.values\n",
        "# integer encode direction\n",
        "encoder = LabelEncoder()\n",
        "values[:,2] = encoder.fit_transform(values[:,2])\n",
        "# ensure all data is float\n",
        "values = values.astype('float32')\n",
        "# normalize features\n",
        "scaler = MinMaxScaler(feature_range=(0, 1))\n",
        "scaled = scaler.fit_transform(values)\n",
        "# frame as supervised learning\n",
        "reframed = series_to_supervised(scaled, 1, 1)\n",
        "# drop columns we don't want to predict\n",
        "#reframed.drop(reframed.columns[[9,10,11,12,13,14,15]], axis=1, inplace=True)\n",
        "print(reframed.head())"
      ]
    },
    {
      "cell_type": "code",
      "execution_count": null,
      "metadata": {
        "id": "EIiqn6kQ7byl"
      },
      "outputs": [],
      "source": [
        "# scaler=MinMaxScaler(feature_range=(0,1))\n",
        "# values=scaler.fit_transform(values)"
      ]
    },
    {
      "cell_type": "code",
      "execution_count": null,
      "metadata": {
        "colab": {
          "base_uri": "https://localhost:8080/"
        },
        "id": "_YhB8rWHiYzr",
        "outputId": "7c12bb32-07be-4cdf-ef94-60d1707409cf"
      },
      "outputs": [
        {
          "output_type": "stream",
          "name": "stdout",
          "text": [
            "(1034, 1, 5) (1034,) (114, 1, 5) (114,)\n"
          ]
        }
      ],
      "source": [
        "# split into train and test sets\n",
        "values = reframed.values\n",
        "random.shuffle(values)\n",
        "n_train =int(0.9*(n_values)) \n",
        "#sklearn.model_selection.train_test_split(values, train_size=n_train, test_size=16000)\n",
        "train = values[:n_train, :]\n",
        "test = values[n_train:, :]\n",
        "# split into input and outputs\n",
        "train_X, train_y = train[:, (0,1,2,3,5)], train[:, 4]\n",
        "test_X, test_y = test[:, (0,1,2,3,5)], test[:, 4]\n",
        "# reshape input to be 3D [samples, timesteps, features]\n",
        "train_X = train_X.reshape((train_X.shape[0], 1, train_X.shape[1]))\n",
        "test_X = test_X.reshape((test_X.shape[0], 1, test_X.shape[1]))\n",
        "print(train_X.shape, train_y.shape, test_X.shape, test_y.shape)"
      ]
    },
    {
      "cell_type": "code",
      "execution_count": null,
      "metadata": {
        "colab": {
          "base_uri": "https://localhost:8080/",
          "height": 1000
        },
        "id": "5aSa3XMzi7-T",
        "outputId": "d26e86d7-d20d-45ea-a004-7c90bddb381d"
      },
      "outputs": [
        {
          "output_type": "stream",
          "name": "stdout",
          "text": [
            "Epoch 1/170\n",
            "33/33 - 5s - loss: 0.0288 - val_loss: 0.1475 - 5s/epoch - 159ms/step\n",
            "Epoch 2/170\n",
            "33/33 - 0s - loss: 0.0124 - val_loss: 0.1327 - 173ms/epoch - 5ms/step\n",
            "Epoch 3/170\n",
            "33/33 - 0s - loss: 0.0075 - val_loss: 0.1222 - 151ms/epoch - 5ms/step\n",
            "Epoch 4/170\n",
            "33/33 - 0s - loss: 0.0045 - val_loss: 0.1133 - 155ms/epoch - 5ms/step\n",
            "Epoch 5/170\n",
            "33/33 - 0s - loss: 0.0025 - val_loss: 0.1057 - 170ms/epoch - 5ms/step\n",
            "Epoch 6/170\n",
            "33/33 - 0s - loss: 0.0022 - val_loss: 0.0983 - 152ms/epoch - 5ms/step\n",
            "Epoch 7/170\n",
            "33/33 - 0s - loss: 0.0016 - val_loss: 0.0921 - 163ms/epoch - 5ms/step\n",
            "Epoch 8/170\n",
            "33/33 - 0s - loss: 0.0015 - val_loss: 0.0884 - 159ms/epoch - 5ms/step\n",
            "Epoch 9/170\n",
            "33/33 - 0s - loss: 0.0018 - val_loss: 0.0812 - 171ms/epoch - 5ms/step\n",
            "Epoch 10/170\n",
            "33/33 - 0s - loss: 0.0011 - val_loss: 0.0807 - 152ms/epoch - 5ms/step\n",
            "Epoch 11/170\n",
            "33/33 - 0s - loss: 0.0011 - val_loss: 0.0760 - 171ms/epoch - 5ms/step\n",
            "Epoch 12/170\n",
            "33/33 - 0s - loss: 0.0014 - val_loss: 0.0710 - 163ms/epoch - 5ms/step\n",
            "Epoch 13/170\n",
            "33/33 - 0s - loss: 0.0012 - val_loss: 0.0584 - 169ms/epoch - 5ms/step\n",
            "Epoch 14/170\n",
            "33/33 - 0s - loss: 0.0019 - val_loss: 0.0500 - 159ms/epoch - 5ms/step\n",
            "Epoch 15/170\n",
            "33/33 - 0s - loss: 0.0015 - val_loss: 0.0443 - 161ms/epoch - 5ms/step\n",
            "Epoch 16/170\n",
            "33/33 - 0s - loss: 0.0013 - val_loss: 0.0365 - 178ms/epoch - 5ms/step\n",
            "Epoch 17/170\n",
            "33/33 - 0s - loss: 0.0015 - val_loss: 0.0324 - 167ms/epoch - 5ms/step\n",
            "Epoch 18/170\n",
            "33/33 - 0s - loss: 0.0013 - val_loss: 0.0202 - 170ms/epoch - 5ms/step\n",
            "Epoch 19/170\n",
            "33/33 - 0s - loss: 0.0012 - val_loss: 0.0118 - 172ms/epoch - 5ms/step\n",
            "Epoch 20/170\n",
            "33/33 - 0s - loss: 0.0016 - val_loss: 0.0086 - 182ms/epoch - 6ms/step\n",
            "Epoch 21/170\n",
            "33/33 - 0s - loss: 0.0015 - val_loss: 0.0089 - 250ms/epoch - 8ms/step\n",
            "Epoch 22/170\n",
            "33/33 - 0s - loss: 0.0013 - val_loss: 0.0104 - 261ms/epoch - 8ms/step\n",
            "Epoch 23/170\n",
            "33/33 - 0s - loss: 0.0013 - val_loss: 0.0159 - 276ms/epoch - 8ms/step\n",
            "Epoch 24/170\n",
            "33/33 - 0s - loss: 0.0015 - val_loss: 0.0080 - 281ms/epoch - 9ms/step\n",
            "Epoch 25/170\n",
            "33/33 - 0s - loss: 0.0014 - val_loss: 0.0019 - 292ms/epoch - 9ms/step\n",
            "Epoch 26/170\n",
            "33/33 - 0s - loss: 0.0017 - val_loss: 4.2684e-04 - 253ms/epoch - 8ms/step\n",
            "Epoch 27/170\n",
            "33/33 - 0s - loss: 0.0014 - val_loss: 4.4865e-04 - 273ms/epoch - 8ms/step\n",
            "Epoch 28/170\n",
            "33/33 - 0s - loss: 0.0015 - val_loss: 2.3050e-04 - 320ms/epoch - 10ms/step\n",
            "Epoch 29/170\n",
            "33/33 - 0s - loss: 0.0014 - val_loss: 0.0018 - 223ms/epoch - 7ms/step\n",
            "Epoch 30/170\n",
            "33/33 - 0s - loss: 0.0011 - val_loss: 6.2075e-04 - 243ms/epoch - 7ms/step\n",
            "Epoch 31/170\n",
            "33/33 - 0s - loss: 9.3391e-04 - val_loss: 5.8691e-04 - 269ms/epoch - 8ms/step\n",
            "Epoch 32/170\n",
            "33/33 - 0s - loss: 0.0023 - val_loss: 3.8106e-04 - 258ms/epoch - 8ms/step\n",
            "Epoch 33/170\n",
            "33/33 - 0s - loss: 0.0013 - val_loss: 0.0044 - 243ms/epoch - 7ms/step\n",
            "Epoch 34/170\n",
            "33/33 - 0s - loss: 0.0022 - val_loss: 0.0072 - 226ms/epoch - 7ms/step\n",
            "Epoch 35/170\n",
            "33/33 - 0s - loss: 0.0014 - val_loss: 0.0181 - 299ms/epoch - 9ms/step\n",
            "Epoch 36/170\n",
            "33/33 - 0s - loss: 0.0011 - val_loss: 0.0072 - 252ms/epoch - 8ms/step\n",
            "Epoch 37/170\n",
            "33/33 - 0s - loss: 0.0018 - val_loss: 8.8773e-04 - 264ms/epoch - 8ms/step\n",
            "Epoch 38/170\n",
            "33/33 - 0s - loss: 0.0016 - val_loss: 8.7798e-04 - 306ms/epoch - 9ms/step\n",
            "Epoch 39/170\n",
            "33/33 - 0s - loss: 0.0016 - val_loss: 0.0029 - 263ms/epoch - 8ms/step\n",
            "Epoch 40/170\n",
            "33/33 - 0s - loss: 0.0016 - val_loss: 0.0147 - 270ms/epoch - 8ms/step\n",
            "Epoch 41/170\n",
            "33/33 - 0s - loss: 9.6193e-04 - val_loss: 0.0166 - 344ms/epoch - 10ms/step\n",
            "Epoch 42/170\n",
            "33/33 - 0s - loss: 7.8704e-04 - val_loss: 0.0191 - 251ms/epoch - 8ms/step\n",
            "Epoch 43/170\n",
            "33/33 - 0s - loss: 0.0010 - val_loss: 0.0156 - 269ms/epoch - 8ms/step\n",
            "Epoch 44/170\n",
            "33/33 - 0s - loss: 0.0021 - val_loss: 0.0048 - 242ms/epoch - 7ms/step\n",
            "Epoch 45/170\n",
            "33/33 - 0s - loss: 0.0012 - val_loss: 0.0215 - 243ms/epoch - 7ms/step\n",
            "Epoch 46/170\n",
            "33/33 - 0s - loss: 0.0016 - val_loss: 0.0218 - 266ms/epoch - 8ms/step\n",
            "Epoch 47/170\n",
            "33/33 - 0s - loss: 0.0016 - val_loss: 0.0073 - 250ms/epoch - 8ms/step\n",
            "Epoch 48/170\n",
            "33/33 - 0s - loss: 9.0602e-04 - val_loss: 0.0117 - 261ms/epoch - 8ms/step\n",
            "Epoch 49/170\n",
            "33/33 - 0s - loss: 0.0023 - val_loss: 0.0215 - 264ms/epoch - 8ms/step\n",
            "Epoch 50/170\n",
            "33/33 - 0s - loss: 0.0013 - val_loss: 0.0189 - 261ms/epoch - 8ms/step\n",
            "Epoch 51/170\n",
            "33/33 - 0s - loss: 0.0020 - val_loss: 0.0113 - 242ms/epoch - 7ms/step\n",
            "Epoch 52/170\n",
            "33/33 - 0s - loss: 7.3953e-04 - val_loss: 0.0178 - 230ms/epoch - 7ms/step\n",
            "Epoch 53/170\n",
            "33/33 - 0s - loss: 9.9793e-04 - val_loss: 0.0050 - 271ms/epoch - 8ms/step\n",
            "Epoch 54/170\n",
            "33/33 - 0s - loss: 9.9305e-04 - val_loss: 0.0037 - 274ms/epoch - 8ms/step\n",
            "Epoch 55/170\n",
            "33/33 - 0s - loss: 8.4118e-04 - val_loss: 3.3203e-04 - 252ms/epoch - 8ms/step\n",
            "Epoch 56/170\n",
            "33/33 - 0s - loss: 0.0013 - val_loss: 0.0048 - 239ms/epoch - 7ms/step\n",
            "Epoch 57/170\n",
            "33/33 - 0s - loss: 9.4267e-04 - val_loss: 0.0038 - 304ms/epoch - 9ms/step\n",
            "Epoch 58/170\n",
            "33/33 - 0s - loss: 0.0015 - val_loss: 0.0056 - 273ms/epoch - 8ms/step\n",
            "Epoch 59/170\n",
            "33/33 - 0s - loss: 9.5712e-04 - val_loss: 0.0049 - 243ms/epoch - 7ms/step\n",
            "Epoch 60/170\n",
            "33/33 - 0s - loss: 0.0015 - val_loss: 0.0042 - 369ms/epoch - 11ms/step\n",
            "Epoch 61/170\n",
            "33/33 - 0s - loss: 0.0011 - val_loss: 0.0330 - 301ms/epoch - 9ms/step\n",
            "Epoch 62/170\n",
            "33/33 - 0s - loss: 0.0013 - val_loss: 0.0317 - 254ms/epoch - 8ms/step\n",
            "Epoch 63/170\n",
            "33/33 - 0s - loss: 8.9392e-04 - val_loss: 0.0053 - 318ms/epoch - 10ms/step\n",
            "Epoch 64/170\n",
            "33/33 - 0s - loss: 8.2180e-04 - val_loss: 6.7945e-04 - 264ms/epoch - 8ms/step\n",
            "Epoch 65/170\n",
            "33/33 - 0s - loss: 0.0012 - val_loss: 0.0017 - 346ms/epoch - 10ms/step\n",
            "Epoch 66/170\n",
            "33/33 - 0s - loss: 0.0013 - val_loss: 4.6788e-04 - 272ms/epoch - 8ms/step\n",
            "Epoch 67/170\n",
            "33/33 - 0s - loss: 0.0012 - val_loss: 5.9229e-04 - 329ms/epoch - 10ms/step\n",
            "Epoch 68/170\n",
            "33/33 - 0s - loss: 0.0021 - val_loss: 0.0025 - 251ms/epoch - 8ms/step\n",
            "Epoch 69/170\n",
            "33/33 - 0s - loss: 0.0020 - val_loss: 0.0033 - 258ms/epoch - 8ms/step\n",
            "Epoch 70/170\n",
            "33/33 - 0s - loss: 9.6935e-04 - val_loss: 0.0189 - 283ms/epoch - 9ms/step\n",
            "Epoch 71/170\n",
            "33/33 - 0s - loss: 0.0018 - val_loss: 0.0389 - 276ms/epoch - 8ms/step\n",
            "Epoch 72/170\n",
            "33/33 - 0s - loss: 0.0013 - val_loss: 0.0064 - 355ms/epoch - 11ms/step\n",
            "Epoch 73/170\n",
            "33/33 - 0s - loss: 0.0012 - val_loss: 0.0011 - 293ms/epoch - 9ms/step\n",
            "Epoch 74/170\n",
            "33/33 - 0s - loss: 0.0013 - val_loss: 0.0012 - 280ms/epoch - 8ms/step\n",
            "Epoch 75/170\n",
            "33/33 - 0s - loss: 0.0021 - val_loss: 2.7211e-04 - 271ms/epoch - 8ms/step\n",
            "Epoch 76/170\n",
            "33/33 - 0s - loss: 0.0012 - val_loss: 1.5499e-04 - 304ms/epoch - 9ms/step\n",
            "Epoch 77/170\n",
            "33/33 - 0s - loss: 0.0017 - val_loss: 2.1705e-05 - 263ms/epoch - 8ms/step\n",
            "Epoch 78/170\n",
            "33/33 - 0s - loss: 0.0016 - val_loss: 2.0170e-04 - 275ms/epoch - 8ms/step\n",
            "Epoch 79/170\n",
            "33/33 - 0s - loss: 0.0012 - val_loss: 0.0107 - 338ms/epoch - 10ms/step\n",
            "Epoch 80/170\n",
            "33/33 - 0s - loss: 0.0016 - val_loss: 0.0073 - 416ms/epoch - 13ms/step\n",
            "Epoch 81/170\n",
            "33/33 - 0s - loss: 0.0015 - val_loss: 0.0119 - 318ms/epoch - 10ms/step\n",
            "Epoch 82/170\n",
            "33/33 - 0s - loss: 0.0012 - val_loss: 0.0077 - 264ms/epoch - 8ms/step\n",
            "Epoch 83/170\n",
            "33/33 - 0s - loss: 0.0014 - val_loss: 0.0026 - 318ms/epoch - 10ms/step\n",
            "Epoch 84/170\n",
            "33/33 - 0s - loss: 0.0014 - val_loss: 0.0050 - 246ms/epoch - 7ms/step\n",
            "Epoch 85/170\n",
            "33/33 - 0s - loss: 0.0014 - val_loss: 0.0146 - 307ms/epoch - 9ms/step\n",
            "Epoch 86/170\n",
            "33/33 - 0s - loss: 0.0014 - val_loss: 0.0074 - 261ms/epoch - 8ms/step\n",
            "Epoch 87/170\n",
            "33/33 - 0s - loss: 0.0016 - val_loss: 6.1541e-04 - 295ms/epoch - 9ms/step\n",
            "Epoch 88/170\n",
            "33/33 - 0s - loss: 0.0012 - val_loss: 1.3396e-04 - 296ms/epoch - 9ms/step\n",
            "Epoch 89/170\n",
            "33/33 - 0s - loss: 0.0024 - val_loss: 0.0078 - 277ms/epoch - 8ms/step\n",
            "Epoch 90/170\n",
            "33/33 - 0s - loss: 0.0015 - val_loss: 0.0156 - 170ms/epoch - 5ms/step\n",
            "Epoch 91/170\n",
            "33/33 - 0s - loss: 0.0014 - val_loss: 0.0106 - 176ms/epoch - 5ms/step\n",
            "Epoch 92/170\n",
            "33/33 - 0s - loss: 0.0016 - val_loss: 0.0036 - 169ms/epoch - 5ms/step\n",
            "Epoch 93/170\n",
            "33/33 - 0s - loss: 0.0012 - val_loss: 0.0132 - 151ms/epoch - 5ms/step\n",
            "Epoch 94/170\n",
            "33/33 - 0s - loss: 0.0014 - val_loss: 0.0265 - 163ms/epoch - 5ms/step\n",
            "Epoch 95/170\n",
            "33/33 - 0s - loss: 0.0015 - val_loss: 0.0081 - 161ms/epoch - 5ms/step\n",
            "Epoch 96/170\n",
            "33/33 - 0s - loss: 0.0011 - val_loss: 0.0177 - 154ms/epoch - 5ms/step\n",
            "Epoch 97/170\n",
            "33/33 - 0s - loss: 0.0014 - val_loss: 0.0022 - 163ms/epoch - 5ms/step\n",
            "Epoch 98/170\n",
            "33/33 - 0s - loss: 9.6378e-04 - val_loss: 0.0017 - 164ms/epoch - 5ms/step\n",
            "Epoch 99/170\n",
            "33/33 - 0s - loss: 0.0010 - val_loss: 6.9107e-04 - 164ms/epoch - 5ms/step\n",
            "Epoch 100/170\n",
            "33/33 - 0s - loss: 7.7662e-04 - val_loss: 0.0056 - 154ms/epoch - 5ms/step\n",
            "Epoch 101/170\n",
            "33/33 - 0s - loss: 0.0013 - val_loss: 0.0045 - 146ms/epoch - 4ms/step\n",
            "Epoch 102/170\n",
            "33/33 - 0s - loss: 0.0011 - val_loss: 0.0011 - 163ms/epoch - 5ms/step\n",
            "Epoch 103/170\n",
            "33/33 - 0s - loss: 0.0013 - val_loss: 2.7002e-04 - 168ms/epoch - 5ms/step\n",
            "Epoch 104/170\n",
            "33/33 - 0s - loss: 0.0011 - val_loss: 0.0019 - 159ms/epoch - 5ms/step\n",
            "Epoch 105/170\n",
            "33/33 - 0s - loss: 0.0016 - val_loss: 0.0061 - 158ms/epoch - 5ms/step\n",
            "Epoch 106/170\n",
            "33/33 - 0s - loss: 9.9262e-04 - val_loss: 0.0060 - 161ms/epoch - 5ms/step\n",
            "Epoch 107/170\n",
            "33/33 - 0s - loss: 0.0021 - val_loss: 2.2168e-05 - 161ms/epoch - 5ms/step\n",
            "Epoch 108/170\n",
            "33/33 - 0s - loss: 9.8325e-04 - val_loss: 7.6306e-04 - 162ms/epoch - 5ms/step\n",
            "Epoch 109/170\n",
            "33/33 - 0s - loss: 0.0015 - val_loss: 0.0030 - 162ms/epoch - 5ms/step\n",
            "Epoch 110/170\n",
            "33/33 - 0s - loss: 0.0011 - val_loss: 0.0099 - 186ms/epoch - 6ms/step\n",
            "Epoch 111/170\n",
            "33/33 - 0s - loss: 0.0021 - val_loss: 8.2640e-04 - 178ms/epoch - 5ms/step\n",
            "Epoch 112/170\n",
            "33/33 - 0s - loss: 0.0013 - val_loss: 0.0142 - 157ms/epoch - 5ms/step\n",
            "Epoch 113/170\n",
            "33/33 - 0s - loss: 0.0011 - val_loss: 0.0034 - 162ms/epoch - 5ms/step\n",
            "Epoch 114/170\n",
            "33/33 - 0s - loss: 0.0012 - val_loss: 0.0061 - 159ms/epoch - 5ms/step\n",
            "Epoch 115/170\n",
            "33/33 - 0s - loss: 0.0017 - val_loss: 0.0305 - 182ms/epoch - 6ms/step\n",
            "Epoch 116/170\n",
            "33/33 - 0s - loss: 0.0017 - val_loss: 0.0571 - 164ms/epoch - 5ms/step\n",
            "Epoch 117/170\n",
            "33/33 - 0s - loss: 0.0012 - val_loss: 0.0466 - 161ms/epoch - 5ms/step\n",
            "Epoch 118/170\n",
            "33/33 - 0s - loss: 0.0015 - val_loss: 0.0762 - 161ms/epoch - 5ms/step\n",
            "Epoch 119/170\n",
            "33/33 - 0s - loss: 0.0014 - val_loss: 0.0309 - 163ms/epoch - 5ms/step\n",
            "Epoch 120/170\n",
            "33/33 - 0s - loss: 0.0017 - val_loss: 0.0442 - 171ms/epoch - 5ms/step\n",
            "Epoch 121/170\n",
            "33/33 - 0s - loss: 9.8263e-04 - val_loss: 0.0241 - 174ms/epoch - 5ms/step\n",
            "Epoch 122/170\n",
            "33/33 - 0s - loss: 8.8433e-04 - val_loss: 0.0175 - 167ms/epoch - 5ms/step\n",
            "Epoch 123/170\n",
            "33/33 - 0s - loss: 0.0011 - val_loss: 0.0041 - 164ms/epoch - 5ms/step\n",
            "Epoch 124/170\n",
            "33/33 - 0s - loss: 0.0013 - val_loss: 0.0017 - 165ms/epoch - 5ms/step\n",
            "Epoch 125/170\n",
            "33/33 - 0s - loss: 0.0019 - val_loss: 4.3290e-05 - 158ms/epoch - 5ms/step\n",
            "Epoch 126/170\n",
            "33/33 - 0s - loss: 0.0012 - val_loss: 0.0038 - 181ms/epoch - 5ms/step\n",
            "Epoch 127/170\n",
            "33/33 - 0s - loss: 9.9110e-04 - val_loss: 0.0054 - 171ms/epoch - 5ms/step\n",
            "Epoch 128/170\n",
            "33/33 - 0s - loss: 8.6665e-04 - val_loss: 0.0055 - 152ms/epoch - 5ms/step\n",
            "Epoch 129/170\n",
            "33/33 - 0s - loss: 0.0012 - val_loss: 0.0063 - 181ms/epoch - 5ms/step\n",
            "Epoch 130/170\n",
            "33/33 - 0s - loss: 0.0012 - val_loss: 0.0034 - 166ms/epoch - 5ms/step\n",
            "Epoch 131/170\n",
            "33/33 - 0s - loss: 0.0015 - val_loss: 0.0073 - 173ms/epoch - 5ms/step\n",
            "Epoch 132/170\n",
            "33/33 - 0s - loss: 0.0013 - val_loss: 0.0429 - 174ms/epoch - 5ms/step\n",
            "Epoch 133/170\n",
            "33/33 - 0s - loss: 0.0013 - val_loss: 0.0303 - 160ms/epoch - 5ms/step\n",
            "Epoch 134/170\n",
            "33/33 - 0s - loss: 0.0018 - val_loss: 0.0146 - 168ms/epoch - 5ms/step\n",
            "Epoch 135/170\n",
            "33/33 - 0s - loss: 0.0019 - val_loss: 0.0725 - 160ms/epoch - 5ms/step\n",
            "Epoch 136/170\n",
            "33/33 - 0s - loss: 0.0017 - val_loss: 0.0376 - 172ms/epoch - 5ms/step\n",
            "Epoch 137/170\n",
            "33/33 - 0s - loss: 0.0011 - val_loss: 0.0071 - 167ms/epoch - 5ms/step\n",
            "Epoch 138/170\n",
            "33/33 - 0s - loss: 0.0015 - val_loss: 0.0012 - 164ms/epoch - 5ms/step\n",
            "Epoch 139/170\n",
            "33/33 - 0s - loss: 0.0011 - val_loss: 6.1001e-04 - 166ms/epoch - 5ms/step\n",
            "Epoch 140/170\n",
            "33/33 - 0s - loss: 0.0012 - val_loss: 0.0052 - 163ms/epoch - 5ms/step\n",
            "Epoch 141/170\n",
            "33/33 - 0s - loss: 0.0017 - val_loss: 0.0047 - 159ms/epoch - 5ms/step\n",
            "Epoch 142/170\n",
            "33/33 - 0s - loss: 0.0011 - val_loss: 0.0070 - 168ms/epoch - 5ms/step\n",
            "Epoch 143/170\n",
            "33/33 - 0s - loss: 0.0014 - val_loss: 0.0031 - 162ms/epoch - 5ms/step\n",
            "Epoch 144/170\n",
            "33/33 - 0s - loss: 0.0014 - val_loss: 0.0014 - 157ms/epoch - 5ms/step\n",
            "Epoch 145/170\n",
            "33/33 - 0s - loss: 0.0011 - val_loss: 5.2881e-04 - 169ms/epoch - 5ms/step\n",
            "Epoch 146/170\n",
            "33/33 - 0s - loss: 0.0014 - val_loss: 1.5990e-04 - 159ms/epoch - 5ms/step\n",
            "Epoch 147/170\n",
            "33/33 - 0s - loss: 0.0011 - val_loss: 8.6818e-04 - 160ms/epoch - 5ms/step\n",
            "Epoch 148/170\n",
            "33/33 - 0s - loss: 0.0017 - val_loss: 0.0226 - 155ms/epoch - 5ms/step\n",
            "Epoch 149/170\n",
            "33/33 - 0s - loss: 0.0015 - val_loss: 0.0374 - 158ms/epoch - 5ms/step\n",
            "Epoch 150/170\n",
            "33/33 - 0s - loss: 0.0013 - val_loss: 0.0337 - 161ms/epoch - 5ms/step\n",
            "Epoch 151/170\n",
            "33/33 - 0s - loss: 0.0012 - val_loss: 0.0699 - 158ms/epoch - 5ms/step\n",
            "Epoch 152/170\n",
            "33/33 - 0s - loss: 0.0012 - val_loss: 0.0805 - 160ms/epoch - 5ms/step\n",
            "Epoch 153/170\n",
            "33/33 - 0s - loss: 0.0013 - val_loss: 0.0608 - 155ms/epoch - 5ms/step\n",
            "Epoch 154/170\n",
            "33/33 - 0s - loss: 9.3868e-04 - val_loss: 0.0419 - 168ms/epoch - 5ms/step\n",
            "Epoch 155/170\n",
            "33/33 - 0s - loss: 0.0012 - val_loss: 0.0457 - 156ms/epoch - 5ms/step\n",
            "Epoch 156/170\n",
            "33/33 - 0s - loss: 0.0010 - val_loss: 0.0629 - 165ms/epoch - 5ms/step\n",
            "Epoch 157/170\n",
            "33/33 - 0s - loss: 9.8564e-04 - val_loss: 0.0166 - 176ms/epoch - 5ms/step\n",
            "Epoch 158/170\n",
            "33/33 - 0s - loss: 0.0013 - val_loss: 0.0089 - 169ms/epoch - 5ms/step\n",
            "Epoch 159/170\n",
            "33/33 - 0s - loss: 7.2699e-04 - val_loss: 0.0110 - 152ms/epoch - 5ms/step\n",
            "Epoch 160/170\n",
            "33/33 - 0s - loss: 0.0011 - val_loss: 0.0137 - 157ms/epoch - 5ms/step\n",
            "Epoch 161/170\n",
            "33/33 - 0s - loss: 0.0011 - val_loss: 0.0104 - 156ms/epoch - 5ms/step\n",
            "Epoch 162/170\n",
            "33/33 - 0s - loss: 8.8651e-04 - val_loss: 0.0061 - 160ms/epoch - 5ms/step\n",
            "Epoch 163/170\n",
            "33/33 - 0s - loss: 0.0011 - val_loss: 1.3143e-04 - 161ms/epoch - 5ms/step\n",
            "Epoch 164/170\n",
            "33/33 - 0s - loss: 0.0019 - val_loss: 0.0086 - 194ms/epoch - 6ms/step\n",
            "Epoch 165/170\n",
            "33/33 - 0s - loss: 0.0011 - val_loss: 0.0035 - 160ms/epoch - 5ms/step\n",
            "Epoch 166/170\n",
            "33/33 - 0s - loss: 0.0014 - val_loss: 9.7248e-04 - 159ms/epoch - 5ms/step\n",
            "Epoch 167/170\n",
            "33/33 - 0s - loss: 0.0013 - val_loss: 0.0060 - 166ms/epoch - 5ms/step\n",
            "Epoch 168/170\n",
            "33/33 - 0s - loss: 0.0015 - val_loss: 0.0012 - 159ms/epoch - 5ms/step\n",
            "Epoch 169/170\n",
            "33/33 - 0s - loss: 0.0020 - val_loss: 7.1652e-04 - 159ms/epoch - 5ms/step\n",
            "Epoch 170/170\n",
            "33/33 - 0s - loss: 0.0012 - val_loss: 2.5150e-04 - 169ms/epoch - 5ms/step\n"
          ]
        },
        {
          "output_type": "display_data",
          "data": {
            "text/plain": [
              "<Figure size 432x288 with 1 Axes>"
            ],
            "image/png": "[encoded data removed]"
          },
          "metadata": {
            "needs_background": "light"
          }
        }
      ],
      "source": [
        "# design network\n",
        "model = Sequential()\n",
        "model.add(GRU(100, input_shape=(train_X.shape[1], train_X.shape[2]),return_sequences = True))\n",
        "model.add(GRU(40))\n",
        "model.add(Dense(1))\n",
        "model.add(BatchNormalization())\n",
        "model.compile(loss='mse', optimizer='adam')\n",
        "#checkpoint\n",
        "filepath=\"weights.best.hdf5\"\n",
        "checkpoint = ModelCheckpoint(filepath, monitor='val_accuracy', verbose=1, save_best_only=True, mode='max')\n",
        "callbacks_list = [checkpoint]\n",
        "# fit network\n",
        "history = model.fit(train_X, train_y, epochs=170, batch_size=32, validation_data=(test_X, test_y), verbose=2, shuffle=True)\n",
        "# plot history\n",
        "pyplot.plot(history.history['loss'], label='train')\n",
        "pyplot.plot(history.history['val_loss'], label='test')\n",
        "pyplot.legend()\n",
        "pyplot.show()"
      ]
    },
    {
      "cell_type": "code",
      "execution_count": null,
      "metadata": {
        "id": "VQouSXZOjQ1d",
        "colab": {
          "base_uri": "https://localhost:8080/",
          "height": 1000
        },
        "outputId": "ae8f5db0-4cbe-4bee-b1bd-e0d75d82a88a"
      },
      "outputs": [
        {
          "output_type": "stream",
          "name": "stderr",
          "text": [
            "WARNING:matplotlib.legend:No handles with labels found to put in legend.\n"
          ]
        },
        {
          "output_type": "stream",
          "name": "stdout",
          "text": [
            "[[ 5.1711679e-02]\n",
            " [ 7.1871090e-01]\n",
            " [ 8.4837556e-02]\n",
            " [ 5.8411193e-01]\n",
            " [ 1.6382933e-01]\n",
            " [ 6.1317563e-02]\n",
            " [ 4.4762766e-01]\n",
            " [ 6.9058657e-02]\n",
            " [ 4.5440435e-02]\n",
            " [ 3.8192248e-01]\n",
            " [ 7.9289079e-02]\n",
            " [ 8.0803370e-01]\n",
            " [ 7.1070671e-02]\n",
            " [ 6.8758273e-01]\n",
            " [ 6.5881681e-01]\n",
            " [ 5.1416039e-02]\n",
            " [ 7.1768594e-01]\n",
            " [ 5.4042745e-01]\n",
            " [ 8.4876633e-01]\n",
            " [ 2.7235150e-02]\n",
            " [ 5.6941628e-02]\n",
            " [ 9.1033816e-02]\n",
            " [ 9.4784856e-02]\n",
            " [ 6.7792916e-01]\n",
            " [ 4.4624865e-01]\n",
            " [ 5.9628963e-01]\n",
            " [ 5.5872440e-02]\n",
            " [ 5.5621982e-02]\n",
            " [ 7.6421976e-01]\n",
            " [ 8.2272148e-01]\n",
            " [ 4.3702006e-02]\n",
            " [ 7.8327584e-01]\n",
            " [ 1.4794183e-01]\n",
            " [ 4.6518719e-01]\n",
            " [ 7.1013212e-02]\n",
            " [ 4.1656756e-01]\n",
            " [ 5.5935860e-02]\n",
            " [ 5.0922680e-01]\n",
            " [ 6.2888265e-02]\n",
            " [ 2.1302819e-02]\n",
            " [ 7.0559144e-02]\n",
            " [ 5.0894272e-01]\n",
            " [ 5.1424026e-02]\n",
            " [ 6.9523454e-02]\n",
            " [ 3.1789541e-03]\n",
            " [ 6.9058657e-02]\n",
            " [ 4.2221355e-01]\n",
            " [ 4.0572953e-01]\n",
            " [ 6.9492626e-01]\n",
            " [ 6.5882277e-01]\n",
            " [ 5.1042938e-01]\n",
            " [-2.1910667e-04]\n",
            " [ 2.4093139e-01]\n",
            " [ 5.7921290e-02]\n",
            " [ 6.4606476e-01]\n",
            " [ 8.5624933e-02]\n",
            " [ 7.7744007e-02]\n",
            " [ 5.9742069e-01]\n",
            " [ 3.5809290e-01]\n",
            " [ 5.1416039e-02]\n",
            " [ 4.5440435e-02]\n",
            " [ 2.3271060e-01]\n",
            " [ 8.6473632e-01]\n",
            " [ 9.1283798e-02]\n",
            " [ 1.6382933e-01]\n",
            " [ 5.0026047e-01]\n",
            " [ 8.0344725e-01]\n",
            " [ 2.1162271e-01]\n",
            " [ 4.0655136e-02]\n",
            " [ 2.7836752e-01]\n",
            " [ 5.3060532e-01]\n",
            " [ 9.7227573e-02]\n",
            " [ 5.9074020e-01]\n",
            " [ 7.6085329e-02]\n",
            " [ 6.0916042e-01]\n",
            " [ 4.4444203e-02]\n",
            " [ 5.8531618e-01]\n",
            " [ 5.6767225e-02]\n",
            " [ 1.8675840e-01]\n",
            " [ 8.3501935e-02]\n",
            " [ 5.5500197e-01]\n",
            " [ 5.2283645e-01]\n",
            " [ 3.9150953e-02]\n",
            " [ 6.4431047e-01]\n",
            " [ 5.5766392e-01]\n",
            " [ 1.7070770e-02]\n",
            " [ 6.8693757e-02]\n",
            " [ 2.0068216e-01]\n",
            " [ 6.6243553e-01]\n",
            " [ 2.6910448e-01]\n",
            " [ 5.6612158e-01]\n",
            " [ 2.3781776e-02]\n",
            " [ 7.1423149e-01]\n",
            " [ 3.5312772e-02]\n",
            " [ 4.2141438e-02]\n",
            " [ 6.3524652e-01]\n",
            " [ 5.7348704e-01]\n",
            " [ 2.3695779e-01]\n",
            " [ 7.8568935e-02]\n",
            " [ 4.6262741e-02]\n",
            " [ 7.1561146e-01]\n",
            " [ 4.6593785e-02]\n",
            " [ 4.8082411e-01]\n",
            " [ 5.8155775e-01]\n",
            " [ 6.8134761e-01]\n",
            " [ 6.1595321e-02]\n",
            " [ 5.8799624e-02]\n",
            " [ 2.1533489e-02]\n",
            " [ 3.7270546e-02]\n",
            " [ 2.3830533e-02]\n",
            " [ 3.2856703e-02]\n",
            " [ 7.5627565e-02]\n",
            " [ 8.4638834e-01]\n",
            " [ 2.0294666e-02]]\n"
          ]
        },
        {
          "output_type": "display_data",
          "data": {
            "text/plain": [
              "<Figure size 432x288 with 1 Axes>"
            ],
            "image/png": "[encoded data removed]"
          },
          "metadata": {
            "needs_background": "light"
          }
        },
        {
          "output_type": "stream",
          "name": "stdout",
          "text": [
            "Test RMSE: 0.016\n"
          ]
        }
      ],
      "source": [
        "# make a prediction\n",
        "yhat = model.predict(test_X)\n",
        "test_X = test_X.reshape((test_X.shape[0], test_X.shape[2]))\n",
        "# invert scaling for forecast\n",
        "inv_yhat = concatenate((yhat, test_X[:, 1:]), axis=1)\n",
        "# inv_yhat = scaler.inverse_transform(inv_yhat)\n",
        "inv_yhat = inv_yhat[:,0]\n",
        "# # invert scaling for actual\n",
        "test_y = test_y.reshape((len(test_y), 1))\n",
        "inv_y = concatenate((test_y, test_X[:, 1:]), axis=1)\n",
        "# inv_y = scaler.inverse_transform(inv_y)\n",
        "inv_y = inv_y[:,0]\n",
        "# # calculate RMSE\n",
        "rmse = sqrt(mean_squared_error(inv_y, inv_yhat))\n",
        "#pyplot.plot(test_y)\n",
        "#pyplot.plot(yhat)\n",
        "pyplot.scatter(numpy.arange(len(test_y)), test_y, marker='*',s=1)\n",
        "pyplot.scatter(numpy.arange(len(test_y)), yhat, marker='.',s=1, color=\"red\")\n",
        "print(yhat)\n",
        "path2=\"/content/drive/MyDrive/output3.csv\"\n",
        "path3=\"/content/drive/MyDrive/y_real.csv\"\n",
        "numpy.savetxt(path2, yhat)\n",
        "numpy.savetxt(path3, test_y)\n",
        "#yhat.to_csv('output2.csv')\n",
        "#yhat.to_csv(brandname + 'yhat.csv', sep='\\t')\n",
        "#files.download(brandname + 'yhat.csv')\n",
        "pyplot.legend()\n",
        "pyplot.show()\n",
        "print('Test RMSE: %.3f' % rmse)"
      ]
    },
    {
      "cell_type": "code",
      "execution_count": null,
      "metadata": {
        "id": "lvaUbzcojBHt",
        "colab": {
          "base_uri": "https://localhost:8080/",
          "height": 282
        },
        "outputId": "59fc2c07-3a11-4d02-ccf5-3db0fb4b33e2"
      },
      "outputs": [
        {
          "output_type": "stream",
          "name": "stderr",
          "text": [
            "WARNING:matplotlib.legend:No handles with labels found to put in legend.\n"
          ]
        },
        {
          "output_type": "display_data",
          "data": {
            "text/plain": [
              "<Figure size 432x288 with 1 Axes>"
            ],
            "image/png": "[encoded data removed]"
          },
          "metadata": {
            "needs_background": "light"
          }
        }
      ],
      "source": [
        "pyplot.scatter(test_y, yhat, color='blue', marker='.', s=10)\n",
        "pyplot.legend()\n",
        "pyplot.show()\n"
      ]
    }
  ],
  "metadata": {
    "accelerator": "GPU",
    "colab": {
      "collapsed_sections": [],
      "name": "crypto mvgruReg  yfinance.ipynb",
      "provenance": [],
      "authorship_tag": "ABX9TyNDyTim9KfX2reOtTtYAbNW",
      "include_colab_link": true
    },
    "kernelspec": {
      "display_name": "Python 3",
      "name": "python3"
    }
  },
  "nbformat": 4,
  "nbformat_minor": 0
}