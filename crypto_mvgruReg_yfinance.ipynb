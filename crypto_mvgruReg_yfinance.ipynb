{
  "cells": [
    {
      "cell_type": "markdown",
      "metadata": {
        "id": "view-in-github",
        "colab_type": "text"
      },
      "source": [
        "<a href=\"https://colab.research.google.com/github/atabakjd/JSE-Stock-Market-Returns-Prediction-Using-Multivariate-Time-Series-Data/blob/main/crypto_mvgruReg_yfinance.ipynb\" target=\"_parent\"><img src=\"https://colab.research.google.com/assets/colab-badge.svg\" alt=\"Open In Colab\"/></a>"
      ]
    },
    {
      "cell_type": "markdown",
      "metadata": {
        "id": "HIOxivvwbeFR"
      },
      "source": [
        "this code has a good point about multi layer rnns in keras, whitch is written in 'design network' part. that is adding \"return_sequences = True\" in properties of first rnn layer.\n",
        "checkpoint is used correctly"
      ]
    },
    {
      "cell_type": "code",
      "execution_count": 1,
      "metadata": {
        "colab": {
          "base_uri": "https://localhost:8080/"
        },
        "id": "nR2TWmPRLwQ2",
        "outputId": "e492e06a-e8b3-400b-8714-58ea64a930f7"
      },
      "outputs": [
        {
          "output_type": "stream",
          "name": "stdout",
          "text": [
            "Drive already mounted at /content/drive; to attempt to forcibly remount, call drive.mount(\"/content/drive\", force_remount=True).\n"
          ]
        }
      ],
      "source": [
        "from google.colab import drive\n",
        "drive.mount('/content/drive')"
      ]
    },
    {
      "cell_type": "code",
      "source": [
        "!pip install yfinance\n",
        "!pip install yahoofinancials"
      ],
      "metadata": {
        "colab": {
          "base_uri": "https://localhost:8080/"
        },
        "id": "nALPJisSYAey",
        "outputId": "c7820f5e-8b38-4c87-b155-25db2d575b6b"
      },
      "execution_count": 2,
      "outputs": [
        {
          "output_type": "stream",
          "name": "stdout",
          "text": [
            "Looking in indexes: https://pypi.org/simple, https://us-python.pkg.dev/colab-wheels/public/simple/\n",
            "Requirement already satisfied: yfinance in /usr/local/lib/python3.7/dist-packages (0.1.74)\n",
            "Requirement already satisfied: pandas>=0.24.0 in /usr/local/lib/python3.7/dist-packages (from yfinance) (1.3.5)\n",
            "Requirement already satisfied: numpy>=1.15 in /usr/local/lib/python3.7/dist-packages (from yfinance) (1.21.6)\n",
            "Requirement already satisfied: requests>=2.26 in /usr/local/lib/python3.7/dist-packages (from yfinance) (2.28.1)\n",
            "Requirement already satisfied: lxml>=4.5.1 in /usr/local/lib/python3.7/dist-packages (from yfinance) (4.9.1)\n",
            "Requirement already satisfied: multitasking>=0.0.7 in /usr/local/lib/python3.7/dist-packages (from yfinance) (0.0.11)\n",
            "Requirement already satisfied: python-dateutil>=2.7.3 in /usr/local/lib/python3.7/dist-packages (from pandas>=0.24.0->yfinance) (2.8.2)\n",
            "Requirement already satisfied: pytz>=2017.3 in /usr/local/lib/python3.7/dist-packages (from pandas>=0.24.0->yfinance) (2022.2.1)\n",
            "Requirement already satisfied: six>=1.5 in /usr/local/lib/python3.7/dist-packages (from python-dateutil>=2.7.3->pandas>=0.24.0->yfinance) (1.15.0)\n",
            "Requirement already satisfied: certifi>=2017.4.17 in /usr/local/lib/python3.7/dist-packages (from requests>=2.26->yfinance) (2022.6.15)\n",
            "Requirement already satisfied: charset-normalizer<3,>=2 in /usr/local/lib/python3.7/dist-packages (from requests>=2.26->yfinance) (2.1.1)\n",
            "Requirement already satisfied: urllib3<1.27,>=1.21.1 in /usr/local/lib/python3.7/dist-packages (from requests>=2.26->yfinance) (1.24.3)\n",
            "Requirement already satisfied: idna<4,>=2.5 in /usr/local/lib/python3.7/dist-packages (from requests>=2.26->yfinance) (2.10)\n",
            "Looking in indexes: https://pypi.org/simple, https://us-python.pkg.dev/colab-wheels/public/simple/\n",
            "Requirement already satisfied: yahoofinancials in /usr/local/lib/python3.7/dist-packages (1.6)\n",
            "Requirement already satisfied: pytz in /usr/local/lib/python3.7/dist-packages (from yahoofinancials) (2022.2.1)\n",
            "Requirement already satisfied: beautifulsoup4 in /usr/local/lib/python3.7/dist-packages (from yahoofinancials) (4.6.3)\n"
          ]
        }
      ]
    },
    {
      "cell_type": "code",
      "execution_count": 3,
      "metadata": {
        "id": "Lkoga3ThMWzP"
      },
      "outputs": [],
      "source": [
        "import yfinance as yf\n",
        "import yahoofinancials\n",
        "from math import sqrt\n",
        "import numpy\n",
        "from numpy import concatenate\n",
        "from matplotlib import pyplot\n",
        "from pandas import read_csv\n",
        "from pandas import DataFrame\n",
        "from pandas import concat\n",
        "import sklearn\n",
        "import random\n",
        "from sklearn.preprocessing import MinMaxScaler\n",
        "from sklearn.preprocessing import LabelEncoder\n",
        "from sklearn.metrics import mean_squared_error\n",
        "from keras.models import Sequential\n",
        "from keras.layers import Dense\n",
        "from keras.layers import LSTM\n",
        "from keras.layers import GRU\n",
        "from keras.layers import BatchNormalization\n",
        "from keras.callbacks import ModelCheckpoint\n",
        "# from tensorflow.keras.callbacks import ModelCheckpoint\n",
        "from pandas import read_csv\n",
        "from datetime import datetime\n",
        "from google.colab import files"
      ]
    },
    {
      "cell_type": "code",
      "source": [
        "data=yf.download('BTC-USD', start=\"2019-07-10\", interval= \"1d\")\n",
        "print(data.head())"
      ],
      "metadata": {
        "colab": {
          "base_uri": "https://localhost:8080/"
        },
        "id": "Mc-K3WU0ZCjA",
        "outputId": "96834017-a2b5-4dcd-c644-cf095398bbf9"
      },
      "execution_count": 4,
      "outputs": [
        {
          "output_type": "stream",
          "name": "stdout",
          "text": [
            "\r[*********************100%***********************]  1 of 1 completed\n",
            "                    Open          High           Low         Close  \\\n",
            "Date                                                                 \n",
            "2019-07-10  12571.537109  13129.529297  11710.978516  12156.512695   \n",
            "2019-07-11  12139.713867  12144.623047  11158.922852  11358.662109   \n",
            "2019-07-12  11354.299805  11905.487305  11179.144531  11815.986328   \n",
            "2019-07-13  11813.126953  11841.957031  10908.479492  11392.378906   \n",
            "2019-07-14  11381.020508  11451.204102  10234.576172  10256.058594   \n",
            "\n",
            "               Adj Close       Volume  \n",
            "Date                                   \n",
            "2019-07-10  12156.512695  33627574244  \n",
            "2019-07-11  11358.662109  28595327690  \n",
            "2019-07-12  11815.986328  23534692797  \n",
            "2019-07-13  11392.378906  21042616384  \n",
            "2019-07-14  10256.058594  22486000001  \n"
          ]
        }
      ]
    },
    {
      "cell_type": "code",
      "execution_count": 5,
      "metadata": {
        "colab": {
          "base_uri": "https://localhost:8080/",
          "height": 283
        },
        "id": "Z6Afi9TKMXKF",
        "outputId": "c67af229-8384-4f9b-eccc-099462b0423a"
      },
      "outputs": [
        {
          "output_type": "stream",
          "name": "stdout",
          "text": [
            "1157\n"
          ]
        },
        {
          "output_type": "display_data",
          "data": {
            "text/plain": [
              "<Figure size 432x288 with 6 Axes>"
            ],
            "image/png": "[encoded data removed]"
          },
          "metadata": {
            "needs_background": "light"
          }
        }
      ],
      "source": [
        "# path=\"/content/drive/MyDrive/ETH-USD.csv\"\n",
        "dataset = data\n",
        "values = dataset.values\n",
        "n_values=len(values)\n",
        "print(n_values)\n",
        "# specify columns to plot\n",
        "groups = [0, 1, 2, 3, 4, 5]\n",
        "i = 1\n",
        "# plot each column\n",
        "pyplot.figure()\n",
        "for group in groups:\n",
        "\tpyplot.subplot(len(groups), 1, i)\n",
        "\tpyplot.plot(values[:, group])\n",
        "\tpyplot.title(dataset.columns[group], y=0.5, loc='right')\n",
        "\ti += 1\n",
        "pyplot.show()"
      ]
    },
    {
      "cell_type": "code",
      "execution_count": 6,
      "metadata": {
        "colab": {
          "base_uri": "https://localhost:8080/"
        },
        "id": "LyUx8IC-hW3o",
        "outputId": "2908ebc7-2208-451e-9683-23602f87fae0"
      },
      "outputs": [
        {
          "output_type": "stream",
          "name": "stdout",
          "text": [
            "   var1(t-1)  var2(t-1)  var3(t-1)  var4(t-1)  var5(t-1)  var6(t-1)   var1(t)  \\\n",
            "1   0.121012   0.122880   0.401384   0.114795   0.114795   0.065334  0.114108   \n",
            "2   0.114108   0.107359   0.363322   0.102049   0.102049   0.050512  0.101551   \n",
            "3   0.101551   0.103591   0.364187   0.109355   0.109355   0.035607  0.108887   \n",
            "4   0.108887   0.102590   0.355536   0.102588   0.102588   0.028267  0.101978   \n",
            "5   0.101978   0.096432   0.316609   0.084435   0.084435   0.032518  0.084021   \n",
            "\n",
            "    var2(t)   var3(t)   var4(t)   var5(t)   var6(t)  \n",
            "1  0.107359  0.363322  0.102049  0.102049  0.050512  \n",
            "2  0.103591  0.364187  0.109355  0.109355  0.035607  \n",
            "3  0.102590  0.355536  0.102588  0.102588  0.028267  \n",
            "4  0.096432  0.316609  0.084435  0.084435  0.032518  \n",
            "5  0.090153  0.290657  0.094643  0.094643  0.041054  \n"
          ]
        }
      ],
      "source": [
        "def series_to_supervised(data, n_in=1, n_out=1, dropnan=True):\n",
        "\tn_vars = 1 if type(data) is list else data.shape[1]\n",
        "\tdf = DataFrame(data)\n",
        "\tcols, names = list(), list()\n",
        "\t# input sequence (t-n, ... t-1)\n",
        "\tfor i in range(n_in, 0, -1):\n",
        "\t\tcols.append(df.shift(i))\n",
        "\t\tnames += [('var%d(t-%d)' % (j+1, i)) for j in range(n_vars)]\n",
        "\t# forecast sequence (t, t+1, ... t+n)\n",
        "\tfor i in range(0, n_out):\n",
        "\t\tcols.append(df.shift(-i))\n",
        "\t\tif i == 0:\n",
        "\t\t\tnames += [('var%d(t)' % (j+1)) for j in range(n_vars)]\n",
        "\t\telse:\n",
        "\t\t\tnames += [('var%d(t+%d)' % (j+1, i)) for j in range(n_vars)]\n",
        "\t# put it all together\n",
        "\tagg = concat(cols, axis=1)\n",
        "\tagg.columns = names\n",
        "\t# drop rows with NaN values\n",
        "\tif dropnan:\n",
        "\t\tagg.dropna(inplace=True)\n",
        "\treturn agg\n",
        "#load dataset\n",
        "#dataset = read_csv(path, header=0)\n",
        "values = dataset.values\n",
        "# integer encode direction\n",
        "encoder = LabelEncoder()\n",
        "values[:,2] = encoder.fit_transform(values[:,2])\n",
        "# ensure all data is float\n",
        "values = values.astype('float32')\n",
        "# normalize features\n",
        "scaler = MinMaxScaler(feature_range=(0, 1))\n",
        "scaled = scaler.fit_transform(values)\n",
        "# frame as supervised learning\n",
        "reframed = series_to_supervised(scaled, 1, 1)\n",
        "# drop columns we don't want to predict\n",
        "#reframed.drop(reframed.columns[[9,10,11,12,13,14,15]], axis=1, inplace=True)\n",
        "print(reframed.head())"
      ]
    },
    {
      "cell_type": "code",
      "execution_count": 18,
      "metadata": {
        "id": "EIiqn6kQ7byl"
      },
      "outputs": [],
      "source": [
        "# scaler=MinMaxScaler(feature_range=(0,1))\n",
        "# values=scaler.fit_transform(values)"
      ]
    },
    {
      "cell_type": "code",
      "execution_count": 7,
      "metadata": {
        "colab": {
          "base_uri": "https://localhost:8080/"
        },
        "id": "_YhB8rWHiYzr",
        "outputId": "7d34a244-23f5-469d-e068-2c4ff88c9db3"
      },
      "outputs": [
        {
          "output_type": "stream",
          "name": "stdout",
          "text": [
            "(1041, 1, 5) (1041,) (115, 1, 5) (115,)\n"
          ]
        }
      ],
      "source": [
        "# split into train and test sets\n",
        "values = reframed.values\n",
        "random.shuffle(values)\n",
        "n_train =int(0.9*(n_values)) \n",
        "#sklearn.model_selection.train_test_split(values, train_size=n_train, test_size=16000)\n",
        "train = values[:n_train, :]\n",
        "test = values[n_train:, :]\n",
        "# split into input and outputs\n",
        "train_X, train_y = train[:, (0,1,2,3,5)], train[:, 4]\n",
        "test_X, test_y = test[:, (0,1,2,3,5)], test[:, 4]\n",
        "# reshape input to be 3D [samples, timesteps, features]\n",
        "train_X = train_X.reshape((train_X.shape[0], 1, train_X.shape[1]))\n",
        "test_X = test_X.reshape((test_X.shape[0], 1, test_X.shape[1]))\n",
        "print(train_X.shape, train_y.shape, test_X.shape, test_y.shape)"
      ]
    },
    {
      "cell_type": "code",
      "execution_count": 15,
      "metadata": {
        "colab": {
          "base_uri": "https://localhost:8080/",
          "height": 1000
        },
        "id": "5aSa3XMzi7-T",
        "outputId": "74028b0f-a1f3-4607-f4a0-354f29cdf901"
      },
      "outputs": [
        {
          "output_type": "stream",
          "name": "stdout",
          "text": [
            "Epoch 1/100\n",
            "33/33 - 8s - loss: 0.0275 - mse: 0.0275 - val_loss: 0.1343 - val_mse: 0.1343 - 8s/epoch - 240ms/step\n",
            "Epoch 2/100\n",
            "33/33 - 0s - loss: 0.0142 - mse: 0.0142 - val_loss: 0.1196 - val_mse: 0.1196 - 251ms/epoch - 8ms/step\n",
            "Epoch 3/100\n",
            "33/33 - 0s - loss: 0.0090 - mse: 0.0090 - val_loss: 0.1060 - val_mse: 0.1060 - 210ms/epoch - 6ms/step\n",
            "Epoch 4/100\n",
            "33/33 - 0s - loss: 0.0054 - mse: 0.0054 - val_loss: 0.0934 - val_mse: 0.0934 - 229ms/epoch - 7ms/step\n",
            "Epoch 5/100\n",
            "33/33 - 0s - loss: 0.0034 - mse: 0.0034 - val_loss: 0.0846 - val_mse: 0.0846 - 241ms/epoch - 7ms/step\n",
            "Epoch 6/100\n",
            "33/33 - 0s - loss: 0.0024 - mse: 0.0024 - val_loss: 0.0788 - val_mse: 0.0788 - 218ms/epoch - 7ms/step\n",
            "Epoch 7/100\n",
            "33/33 - 0s - loss: 0.0017 - mse: 0.0017 - val_loss: 0.0724 - val_mse: 0.0724 - 221ms/epoch - 7ms/step\n",
            "Epoch 8/100\n",
            "33/33 - 0s - loss: 0.0014 - mse: 0.0014 - val_loss: 0.0675 - val_mse: 0.0675 - 247ms/epoch - 7ms/step\n",
            "Epoch 9/100\n",
            "33/33 - 0s - loss: 0.0016 - mse: 0.0016 - val_loss: 0.0619 - val_mse: 0.0619 - 168ms/epoch - 5ms/step\n",
            "Epoch 10/100\n",
            "33/33 - 0s - loss: 0.0017 - mse: 0.0017 - val_loss: 0.0601 - val_mse: 0.0601 - 178ms/epoch - 5ms/step\n",
            "Epoch 11/100\n",
            "33/33 - 0s - loss: 0.0016 - mse: 0.0016 - val_loss: 0.0526 - val_mse: 0.0526 - 183ms/epoch - 6ms/step\n",
            "Epoch 12/100\n",
            "33/33 - 0s - loss: 0.0020 - mse: 0.0020 - val_loss: 0.0542 - val_mse: 0.0542 - 167ms/epoch - 5ms/step\n",
            "Epoch 13/100\n",
            "33/33 - 0s - loss: 8.5211e-04 - mse: 8.5211e-04 - val_loss: 0.0467 - val_mse: 0.0467 - 224ms/epoch - 7ms/step\n",
            "Epoch 14/100\n",
            "33/33 - 0s - loss: 0.0022 - mse: 0.0022 - val_loss: 0.0384 - val_mse: 0.0384 - 163ms/epoch - 5ms/step\n",
            "Epoch 15/100\n",
            "33/33 - 0s - loss: 0.0011 - mse: 0.0011 - val_loss: 0.0316 - val_mse: 0.0316 - 168ms/epoch - 5ms/step\n",
            "Epoch 16/100\n",
            "33/33 - 0s - loss: 0.0013 - mse: 0.0013 - val_loss: 0.0272 - val_mse: 0.0272 - 180ms/epoch - 5ms/step\n",
            "Epoch 17/100\n",
            "33/33 - 0s - loss: 0.0017 - mse: 0.0017 - val_loss: 0.0194 - val_mse: 0.0194 - 173ms/epoch - 5ms/step\n",
            "Epoch 18/100\n",
            "33/33 - 0s - loss: 0.0016 - mse: 0.0016 - val_loss: 0.0118 - val_mse: 0.0118 - 166ms/epoch - 5ms/step\n",
            "Epoch 19/100\n",
            "33/33 - 0s - loss: 0.0011 - mse: 0.0011 - val_loss: 0.0084 - val_mse: 0.0084 - 165ms/epoch - 5ms/step\n",
            "Epoch 20/100\n",
            "33/33 - 0s - loss: 8.8296e-04 - mse: 8.8296e-04 - val_loss: 0.0073 - val_mse: 0.0073 - 167ms/epoch - 5ms/step\n",
            "Epoch 21/100\n",
            "33/33 - 0s - loss: 0.0014 - mse: 0.0014 - val_loss: 0.0182 - val_mse: 0.0182 - 162ms/epoch - 5ms/step\n",
            "Epoch 22/100\n",
            "33/33 - 0s - loss: 9.5303e-04 - mse: 9.5303e-04 - val_loss: 0.0166 - val_mse: 0.0166 - 181ms/epoch - 5ms/step\n",
            "Epoch 23/100\n",
            "33/33 - 0s - loss: 7.7849e-04 - mse: 7.7849e-04 - val_loss: 0.0074 - val_mse: 0.0074 - 234ms/epoch - 7ms/step\n",
            "Epoch 24/100\n",
            "33/33 - 0s - loss: 0.0021 - mse: 0.0021 - val_loss: 0.0044 - val_mse: 0.0044 - 168ms/epoch - 5ms/step\n",
            "Epoch 25/100\n",
            "33/33 - 0s - loss: 0.0013 - mse: 0.0013 - val_loss: 0.0230 - val_mse: 0.0230 - 164ms/epoch - 5ms/step\n",
            "Epoch 26/100\n",
            "33/33 - 0s - loss: 0.0018 - mse: 0.0018 - val_loss: 0.0121 - val_mse: 0.0121 - 162ms/epoch - 5ms/step\n",
            "Epoch 27/100\n",
            "33/33 - 0s - loss: 0.0018 - mse: 0.0018 - val_loss: 0.0111 - val_mse: 0.0111 - 168ms/epoch - 5ms/step\n",
            "Epoch 28/100\n",
            "33/33 - 0s - loss: 0.0031 - mse: 0.0031 - val_loss: 0.0216 - val_mse: 0.0216 - 179ms/epoch - 5ms/step\n",
            "Epoch 29/100\n",
            "33/33 - 0s - loss: 0.0012 - mse: 0.0012 - val_loss: 0.0038 - val_mse: 0.0038 - 172ms/epoch - 5ms/step\n",
            "Epoch 30/100\n",
            "33/33 - 0s - loss: 0.0017 - mse: 0.0017 - val_loss: 5.2258e-04 - val_mse: 5.2258e-04 - 166ms/epoch - 5ms/step\n",
            "Epoch 31/100\n",
            "33/33 - 0s - loss: 0.0015 - mse: 0.0015 - val_loss: 0.0086 - val_mse: 0.0086 - 181ms/epoch - 5ms/step\n",
            "Epoch 32/100\n",
            "33/33 - 0s - loss: 0.0012 - mse: 0.0012 - val_loss: 0.0019 - val_mse: 0.0019 - 169ms/epoch - 5ms/step\n",
            "Epoch 33/100\n",
            "33/33 - 0s - loss: 0.0014 - mse: 0.0014 - val_loss: 0.0013 - val_mse: 0.0013 - 171ms/epoch - 5ms/step\n",
            "Epoch 34/100\n",
            "33/33 - 0s - loss: 0.0014 - mse: 0.0014 - val_loss: 0.0163 - val_mse: 0.0163 - 175ms/epoch - 5ms/step\n",
            "Epoch 35/100\n",
            "33/33 - 0s - loss: 7.5426e-04 - mse: 7.5426e-04 - val_loss: 0.0072 - val_mse: 0.0072 - 239ms/epoch - 7ms/step\n",
            "Epoch 36/100\n",
            "33/33 - 0s - loss: 0.0026 - mse: 0.0026 - val_loss: 0.0012 - val_mse: 0.0012 - 168ms/epoch - 5ms/step\n",
            "Epoch 37/100\n",
            "33/33 - 0s - loss: 0.0011 - mse: 0.0011 - val_loss: 0.0076 - val_mse: 0.0076 - 185ms/epoch - 6ms/step\n",
            "Epoch 38/100\n",
            "33/33 - 0s - loss: 0.0019 - mse: 0.0019 - val_loss: 0.0244 - val_mse: 0.0244 - 168ms/epoch - 5ms/step\n",
            "Epoch 39/100\n",
            "33/33 - 0s - loss: 0.0014 - mse: 0.0014 - val_loss: 0.0018 - val_mse: 0.0018 - 192ms/epoch - 6ms/step\n",
            "Epoch 40/100\n",
            "33/33 - 0s - loss: 0.0014 - mse: 0.0014 - val_loss: 0.0019 - val_mse: 0.0019 - 179ms/epoch - 5ms/step\n",
            "Epoch 41/100\n",
            "33/33 - 0s - loss: 0.0016 - mse: 0.0016 - val_loss: 4.1947e-04 - val_mse: 4.1947e-04 - 166ms/epoch - 5ms/step\n",
            "Epoch 42/100\n",
            "33/33 - 0s - loss: 0.0021 - mse: 0.0021 - val_loss: 0.0019 - val_mse: 0.0019 - 181ms/epoch - 5ms/step\n",
            "Epoch 43/100\n",
            "33/33 - 0s - loss: 0.0017 - mse: 0.0017 - val_loss: 4.2933e-04 - val_mse: 4.2933e-04 - 177ms/epoch - 5ms/step\n",
            "Epoch 44/100\n",
            "33/33 - 0s - loss: 0.0019 - mse: 0.0019 - val_loss: 0.0160 - val_mse: 0.0160 - 184ms/epoch - 6ms/step\n",
            "Epoch 45/100\n",
            "33/33 - 0s - loss: 0.0018 - mse: 0.0018 - val_loss: 0.0187 - val_mse: 0.0187 - 191ms/epoch - 6ms/step\n",
            "Epoch 46/100\n",
            "33/33 - 0s - loss: 0.0013 - mse: 0.0013 - val_loss: 0.0141 - val_mse: 0.0141 - 169ms/epoch - 5ms/step\n",
            "Epoch 47/100\n",
            "33/33 - 0s - loss: 0.0032 - mse: 0.0032 - val_loss: 0.0151 - val_mse: 0.0151 - 169ms/epoch - 5ms/step\n",
            "Epoch 48/100\n",
            "33/33 - 0s - loss: 0.0014 - mse: 0.0014 - val_loss: 0.0075 - val_mse: 0.0075 - 169ms/epoch - 5ms/step\n",
            "Epoch 49/100\n",
            "33/33 - 0s - loss: 0.0017 - mse: 0.0017 - val_loss: 0.0095 - val_mse: 0.0095 - 186ms/epoch - 6ms/step\n",
            "Epoch 50/100\n",
            "33/33 - 0s - loss: 0.0020 - mse: 0.0020 - val_loss: 0.0169 - val_mse: 0.0169 - 176ms/epoch - 5ms/step\n",
            "Epoch 51/100\n",
            "33/33 - 0s - loss: 0.0016 - mse: 0.0016 - val_loss: 6.1218e-04 - val_mse: 6.1218e-04 - 172ms/epoch - 5ms/step\n",
            "Epoch 52/100\n",
            "33/33 - 0s - loss: 0.0011 - mse: 0.0011 - val_loss: 0.0043 - val_mse: 0.0043 - 178ms/epoch - 5ms/step\n",
            "Epoch 53/100\n",
            "33/33 - 0s - loss: 0.0012 - mse: 0.0012 - val_loss: 0.0062 - val_mse: 0.0062 - 175ms/epoch - 5ms/step\n",
            "Epoch 54/100\n",
            "33/33 - 0s - loss: 7.9403e-04 - mse: 7.9403e-04 - val_loss: 0.0033 - val_mse: 0.0033 - 193ms/epoch - 6ms/step\n",
            "Epoch 55/100\n",
            "33/33 - 0s - loss: 0.0018 - mse: 0.0018 - val_loss: 0.0036 - val_mse: 0.0036 - 172ms/epoch - 5ms/step\n",
            "Epoch 56/100\n",
            "33/33 - 0s - loss: 0.0016 - mse: 0.0016 - val_loss: 1.2318e-04 - val_mse: 1.2318e-04 - 196ms/epoch - 6ms/step\n",
            "Epoch 57/100\n",
            "33/33 - 0s - loss: 0.0017 - mse: 0.0017 - val_loss: 7.1978e-04 - val_mse: 7.1978e-04 - 190ms/epoch - 6ms/step\n",
            "Epoch 58/100\n",
            "33/33 - 0s - loss: 0.0012 - mse: 0.0012 - val_loss: 0.0128 - val_mse: 0.0128 - 173ms/epoch - 5ms/step\n",
            "Epoch 59/100\n",
            "33/33 - 0s - loss: 0.0029 - mse: 0.0029 - val_loss: 0.0034 - val_mse: 0.0034 - 183ms/epoch - 6ms/step\n",
            "Epoch 60/100\n",
            "33/33 - 0s - loss: 0.0018 - mse: 0.0018 - val_loss: 0.0022 - val_mse: 0.0022 - 175ms/epoch - 5ms/step\n",
            "Epoch 61/100\n",
            "33/33 - 0s - loss: 0.0020 - mse: 0.0020 - val_loss: 0.0065 - val_mse: 0.0065 - 173ms/epoch - 5ms/step\n",
            "Epoch 62/100\n",
            "33/33 - 0s - loss: 0.0014 - mse: 0.0014 - val_loss: 0.0039 - val_mse: 0.0039 - 169ms/epoch - 5ms/step\n",
            "Epoch 63/100\n",
            "33/33 - 0s - loss: 0.0015 - mse: 0.0015 - val_loss: 0.0035 - val_mse: 0.0035 - 184ms/epoch - 6ms/step\n",
            "Epoch 64/100\n",
            "33/33 - 0s - loss: 8.3500e-04 - mse: 8.3500e-04 - val_loss: 0.0011 - val_mse: 0.0011 - 170ms/epoch - 5ms/step\n",
            "Epoch 65/100\n",
            "33/33 - 0s - loss: 9.7593e-04 - mse: 9.7593e-04 - val_loss: 2.5750e-05 - val_mse: 2.5750e-05 - 188ms/epoch - 6ms/step\n",
            "Epoch 66/100\n",
            "33/33 - 0s - loss: 0.0018 - mse: 0.0018 - val_loss: 4.4277e-04 - val_mse: 4.4277e-04 - 174ms/epoch - 5ms/step\n",
            "Epoch 67/100\n",
            "33/33 - 0s - loss: 0.0013 - mse: 0.0013 - val_loss: 0.0046 - val_mse: 0.0046 - 187ms/epoch - 6ms/step\n",
            "Epoch 68/100\n",
            "33/33 - 0s - loss: 0.0012 - mse: 0.0012 - val_loss: 0.0070 - val_mse: 0.0070 - 169ms/epoch - 5ms/step\n",
            "Epoch 69/100\n",
            "33/33 - 0s - loss: 0.0012 - mse: 0.0012 - val_loss: 0.0033 - val_mse: 0.0033 - 166ms/epoch - 5ms/step\n",
            "Epoch 70/100\n",
            "33/33 - 0s - loss: 0.0019 - mse: 0.0019 - val_loss: 0.0160 - val_mse: 0.0160 - 169ms/epoch - 5ms/step\n",
            "Epoch 71/100\n",
            "33/33 - 0s - loss: 0.0011 - mse: 0.0011 - val_loss: 0.0144 - val_mse: 0.0144 - 183ms/epoch - 6ms/step\n",
            "Epoch 72/100\n",
            "33/33 - 0s - loss: 0.0010 - mse: 0.0010 - val_loss: 0.0075 - val_mse: 0.0075 - 179ms/epoch - 5ms/step\n",
            "Epoch 73/100\n",
            "33/33 - 0s - loss: 0.0013 - mse: 0.0013 - val_loss: 5.8495e-05 - val_mse: 5.8495e-05 - 168ms/epoch - 5ms/step\n",
            "Epoch 74/100\n",
            "33/33 - 0s - loss: 0.0012 - mse: 0.0012 - val_loss: 0.0017 - val_mse: 0.0017 - 181ms/epoch - 5ms/step\n",
            "Epoch 75/100\n",
            "33/33 - 0s - loss: 9.7465e-04 - mse: 9.7465e-04 - val_loss: 0.0013 - val_mse: 0.0013 - 170ms/epoch - 5ms/step\n",
            "Epoch 76/100\n",
            "33/33 - 0s - loss: 0.0025 - mse: 0.0025 - val_loss: 0.0027 - val_mse: 0.0027 - 169ms/epoch - 5ms/step\n",
            "Epoch 77/100\n",
            "33/33 - 0s - loss: 0.0016 - mse: 0.0016 - val_loss: 0.0028 - val_mse: 0.0028 - 183ms/epoch - 6ms/step\n",
            "Epoch 78/100\n",
            "33/33 - 0s - loss: 0.0015 - mse: 0.0015 - val_loss: 0.0132 - val_mse: 0.0132 - 175ms/epoch - 5ms/step\n",
            "Epoch 79/100\n",
            "33/33 - 0s - loss: 0.0013 - mse: 0.0013 - val_loss: 0.0074 - val_mse: 0.0074 - 166ms/epoch - 5ms/step\n",
            "Epoch 80/100\n",
            "33/33 - 0s - loss: 8.4811e-04 - mse: 8.4811e-04 - val_loss: 0.0043 - val_mse: 0.0043 - 169ms/epoch - 5ms/step\n",
            "Epoch 81/100\n",
            "33/33 - 0s - loss: 0.0023 - mse: 0.0023 - val_loss: 0.0190 - val_mse: 0.0190 - 175ms/epoch - 5ms/step\n",
            "Epoch 82/100\n",
            "33/33 - 0s - loss: 0.0017 - mse: 0.0017 - val_loss: 0.0320 - val_mse: 0.0320 - 181ms/epoch - 5ms/step\n",
            "Epoch 83/100\n",
            "33/33 - 0s - loss: 0.0010 - mse: 0.0010 - val_loss: 0.0269 - val_mse: 0.0269 - 184ms/epoch - 6ms/step\n",
            "Epoch 84/100\n",
            "33/33 - 0s - loss: 0.0012 - mse: 0.0012 - val_loss: 0.0146 - val_mse: 0.0146 - 189ms/epoch - 6ms/step\n",
            "Epoch 85/100\n",
            "33/33 - 0s - loss: 0.0021 - mse: 0.0021 - val_loss: 0.0375 - val_mse: 0.0375 - 166ms/epoch - 5ms/step\n",
            "Epoch 86/100\n",
            "33/33 - 0s - loss: 0.0011 - mse: 0.0011 - val_loss: 0.0032 - val_mse: 0.0032 - 168ms/epoch - 5ms/step\n",
            "Epoch 87/100\n",
            "33/33 - 0s - loss: 0.0013 - mse: 0.0013 - val_loss: 0.0023 - val_mse: 0.0023 - 167ms/epoch - 5ms/step\n",
            "Epoch 88/100\n",
            "33/33 - 0s - loss: 0.0015 - mse: 0.0015 - val_loss: 0.0022 - val_mse: 0.0022 - 176ms/epoch - 5ms/step\n",
            "Epoch 89/100\n",
            "33/33 - 0s - loss: 0.0011 - mse: 0.0011 - val_loss: 2.1753e-04 - val_mse: 2.1753e-04 - 186ms/epoch - 6ms/step\n",
            "Epoch 90/100\n",
            "33/33 - 0s - loss: 0.0014 - mse: 0.0014 - val_loss: 0.0111 - val_mse: 0.0111 - 162ms/epoch - 5ms/step\n",
            "Epoch 91/100\n",
            "33/33 - 0s - loss: 0.0018 - mse: 0.0018 - val_loss: 0.0070 - val_mse: 0.0070 - 161ms/epoch - 5ms/step\n",
            "Epoch 92/100\n",
            "33/33 - 0s - loss: 0.0014 - mse: 0.0014 - val_loss: 0.0039 - val_mse: 0.0039 - 166ms/epoch - 5ms/step\n",
            "Epoch 93/100\n",
            "33/33 - 0s - loss: 0.0015 - mse: 0.0015 - val_loss: 3.2489e-04 - val_mse: 3.2489e-04 - 194ms/epoch - 6ms/step\n",
            "Epoch 94/100\n",
            "33/33 - 0s - loss: 0.0016 - mse: 0.0016 - val_loss: 4.3947e-05 - val_mse: 4.3947e-05 - 183ms/epoch - 6ms/step\n",
            "Epoch 95/100\n",
            "33/33 - 0s - loss: 8.0536e-04 - mse: 8.0536e-04 - val_loss: 0.0021 - val_mse: 0.0021 - 187ms/epoch - 6ms/step\n",
            "Epoch 96/100\n",
            "33/33 - 0s - loss: 9.0587e-04 - mse: 9.0587e-04 - val_loss: 6.4550e-04 - val_mse: 6.4550e-04 - 174ms/epoch - 5ms/step\n",
            "Epoch 97/100\n",
            "33/33 - 0s - loss: 0.0017 - mse: 0.0017 - val_loss: 0.0077 - val_mse: 0.0077 - 173ms/epoch - 5ms/step\n",
            "Epoch 98/100\n",
            "33/33 - 0s - loss: 0.0013 - mse: 0.0013 - val_loss: 0.0105 - val_mse: 0.0105 - 185ms/epoch - 6ms/step\n",
            "Epoch 99/100\n",
            "33/33 - 0s - loss: 0.0011 - mse: 0.0011 - val_loss: 0.0157 - val_mse: 0.0157 - 177ms/epoch - 5ms/step\n",
            "Epoch 100/100\n",
            "33/33 - 0s - loss: 0.0015 - mse: 0.0015 - val_loss: 0.0091 - val_mse: 0.0091 - 187ms/epoch - 6ms/step\n"
          ]
        },
        {
          "output_type": "display_data",
          "data": {
            "text/plain": [
              "<Figure size 432x288 with 1 Axes>"
            ],
            "image/png": "[encoded data removed]"
          },
          "metadata": {
            "needs_background": "light"
          }
        }
      ],
      "source": [
        "# design network\n",
        "model = Sequential()\n",
        "model.add(GRU(100, input_shape=(train_X.shape[1], train_X.shape[2]),return_sequences = True))\n",
        "model.add(GRU(40))\n",
        "model.add(Dense(1))\n",
        "model.add(BatchNormalization())\n",
        "model.compile(loss='mse', metrics='mse', optimizer='adam')\n",
        "#checkpoint\n",
        "# filepath=\"/content/drive/MyDrive/weights.h5\"\n",
        "# checkpoint = ModelCheckpoint(filepath=filepath, monitor='val_accuracy', verbose=1, save_best_only=True, mode='max')\n",
        "# callbacks_list = [checkpoint]\n",
        "checkpoint_filepath = \"/content/drive/MyDrive/weights\"\n",
        "model_checkpoint_callback = ModelCheckpoint(\n",
        "    filepath=checkpoint_filepath,\n",
        "    save_weights_only=True,\n",
        "    monitor='mse',\n",
        "    mode='min',\n",
        "    save_best_only=True)\n",
        "\n",
        "# fit network\n",
        "history = model.fit(train_X, train_y, epochs=100, batch_size=32, validation_data=(test_X, test_y), verbose=2, shuffle=True, callbacks=[model_checkpoint_callback])\n",
        "\n",
        "# plot history\n",
        "pyplot.plot(history.history['loss'], label='train')\n",
        "pyplot.plot(history.history['val_loss'], label='test')\n",
        "pyplot.legend()\n",
        "pyplot.show()"
      ]
    },
    {
      "cell_type": "code",
      "source": [
        "model.load_weights(checkpoint_filepath)\n",
        "evaluation = model.evaluate(test_X, test_y)\n",
        "print(evaluation)"
      ],
      "metadata": {
        "id": "3I4GYUVJpS1-",
        "outputId": "c4d73d78-4ac3-47e9-bd26-77c5ae1903a2",
        "colab": {
          "base_uri": "https://localhost:8080/"
        }
      },
      "execution_count": 16,
      "outputs": [
        {
          "output_type": "stream",
          "name": "stdout",
          "text": [
            "4/4 [==============================] - 0s 5ms/step - loss: 0.0072 - mse: 0.0072\n",
            "[0.007163904141634703, 0.007163904141634703]\n"
          ]
        }
      ]
    },
    {
      "cell_type": "code",
      "execution_count": 17,
      "metadata": {
        "id": "VQouSXZOjQ1d",
        "colab": {
          "base_uri": "https://localhost:8080/",
          "height": 1000
        },
        "outputId": "05f3456f-9335-422b-9860-200eb84e7574"
      },
      "outputs": [
        {
          "output_type": "stream",
          "name": "stderr",
          "text": [
            "WARNING:matplotlib.legend:No handles with labels found to put in legend.\n"
          ]
        },
        {
          "output_type": "stream",
          "name": "stdout",
          "text": [
            "[[ 5.64142048e-01]\n",
            " [ 4.01073694e-01]\n",
            " [-6.01950288e-02]\n",
            " [ 2.98338205e-01]\n",
            " [ 1.08206272e-02]\n",
            " [-9.12550092e-03]\n",
            " [ 6.13086700e-01]\n",
            " [ 4.80739474e-02]\n",
            " [-5.78272045e-02]\n",
            " [ 8.14477265e-01]\n",
            " [ 3.37526858e-01]\n",
            " [ 2.90655792e-02]\n",
            " [ 5.85967302e-02]\n",
            " [ 6.74623251e-03]\n",
            " [-1.93960965e-02]\n",
            " [ 5.02517521e-01]\n",
            " [-4.59934473e-02]\n",
            " [ 9.90089029e-02]\n",
            " [ 2.92313397e-02]\n",
            " [-4.85875905e-02]\n",
            " [-5.25820255e-03]\n",
            " [ 2.32013464e-02]\n",
            " [ 7.32923508e-01]\n",
            " [ 2.97403097e-01]\n",
            " [ 3.30787957e-01]\n",
            " [ 5.82704544e-01]\n",
            " [ 6.34040236e-01]\n",
            " [-3.40135992e-02]\n",
            " [ 3.45563978e-01]\n",
            " [-5.96556067e-02]\n",
            " [-9.12550092e-03]\n",
            " [ 4.19975877e-01]\n",
            " [ 2.23609507e-02]\n",
            " [-1.84130073e-02]\n",
            " [ 2.86019176e-01]\n",
            " [ 8.09271336e-01]\n",
            " [ 4.65533018e-01]\n",
            " [ 4.86702263e-01]\n",
            " [-1.76648498e-02]\n",
            " [-5.48472404e-02]\n",
            " [-4.06998396e-03]\n",
            " [ 3.51659387e-01]\n",
            " [ 2.70047724e-01]\n",
            " [-4.78714705e-04]\n",
            " [ 4.71018910e-01]\n",
            " [ 5.84003031e-01]\n",
            " [ 4.57162768e-01]\n",
            " [ 4.26894665e-01]\n",
            " [-4.66213524e-02]\n",
            " [-7.07182288e-03]\n",
            " [-5.27136624e-02]\n",
            " [ 5.93620420e-01]\n",
            " [-4.64706421e-02]\n",
            " [ 4.20043170e-01]\n",
            " [-4.75270748e-02]\n",
            " [ 4.34025407e-01]\n",
            " [ 6.23272955e-02]\n",
            " [ 3.40715677e-01]\n",
            " [-4.55401540e-02]\n",
            " [ 2.59757042e-04]\n",
            " [-3.14280689e-02]\n",
            " [ 2.16734111e-02]\n",
            " [-3.38580310e-02]\n",
            " [ 6.37299895e-01]\n",
            " [ 6.29799545e-01]\n",
            " [ 5.55895865e-01]\n",
            " [ 2.18315855e-01]\n",
            " [-3.43279243e-02]\n",
            " [ 2.99956441e-01]\n",
            " [ 7.25691438e-01]\n",
            " [-3.22974920e-02]\n",
            " [ 1.56693980e-01]\n",
            " [ 2.06960440e-02]\n",
            " [ 7.77548850e-02]\n",
            " [ 2.32013464e-02]\n",
            " [ 3.84044051e-01]\n",
            " [ 2.16139734e-01]\n",
            " [ 3.91625822e-01]\n",
            " [ 1.68153077e-01]\n",
            " [-7.10698962e-03]\n",
            " [ 4.31985140e-01]\n",
            " [ 3.53470534e-01]\n",
            " [-2.26896107e-02]\n",
            " [ 1.96098074e-01]\n",
            " [-1.29069686e-02]\n",
            " [ 1.92126632e-03]\n",
            " [ 4.86702263e-01]\n",
            " [ 5.77663720e-01]\n",
            " [ 2.60616601e-01]\n",
            " [-4.64034379e-02]\n",
            " [ 2.51147151e-02]\n",
            " [-8.55898857e-03]\n",
            " [-1.84130073e-02]\n",
            " [ 4.93191421e-01]\n",
            " [-1.83455348e-02]\n",
            " [ 4.58638549e-01]\n",
            " [ 1.36502758e-01]\n",
            " [-1.18825138e-02]\n",
            " [ 3.35800707e-01]\n",
            " [ 1.41946152e-01]\n",
            " [ 7.52707601e-01]\n",
            " [ 3.65812451e-01]\n",
            " [ 4.01244253e-01]\n",
            " [ 2.16622591e-01]\n",
            " [ 8.42121780e-01]\n",
            " [ 5.03460884e-01]\n",
            " [ 1.36502758e-01]\n",
            " [-5.75280190e-02]\n",
            " [ 4.21007931e-01]\n",
            " [ 2.31711268e-02]\n",
            " [ 1.20484233e-02]\n",
            " [ 3.51659387e-01]\n",
            " [-5.15040755e-03]\n",
            " [ 2.38829553e-02]\n",
            " [-1.28367245e-02]]\n"
          ]
        },
        {
          "output_type": "display_data",
          "data": {
            "text/plain": [
              "<Figure size 432x288 with 1 Axes>"
            ],
            "image/png": "[encoded data removed]"
          },
          "metadata": {
            "needs_background": "light"
          }
        },
        {
          "output_type": "stream",
          "name": "stdout",
          "text": [
            "Test RMSE: 0.085\n"
          ]
        }
      ],
      "source": [
        "# make a prediction\n",
        "yhat = model.predict(test_X)\n",
        "test_X = test_X.reshape((test_X.shape[0], test_X.shape[2]))\n",
        "# invert scaling for forecast\n",
        "inv_yhat = concatenate((yhat, test_X[:, 1:]), axis=1)\n",
        "# inv_yhat = scaler.inverse_transform(inv_yhat)\n",
        "inv_yhat = inv_yhat[:,0]\n",
        "# # invert scaling for actual\n",
        "test_y = test_y.reshape((len(test_y), 1))\n",
        "inv_y = concatenate((test_y, test_X[:, 1:]), axis=1)\n",
        "# inv_y = scaler.inverse_transform(inv_y)\n",
        "inv_y = inv_y[:,0]\n",
        "# # calculate RMSE\n",
        "rmse = sqrt(mean_squared_error(inv_y, inv_yhat))\n",
        "#pyplot.plot(test_y)\n",
        "#pyplot.plot(yhat)\n",
        "pyplot.scatter(numpy.arange(len(test_y)), test_y, marker='*',s=1)\n",
        "pyplot.scatter(numpy.arange(len(test_y)), yhat, marker='.',s=1, color=\"red\")\n",
        "print(yhat)\n",
        "path2=\"/content/drive/MyDrive/output3.csv\"\n",
        "path3=\"/content/drive/MyDrive/y_real.csv\"\n",
        "numpy.savetxt(path2, yhat)\n",
        "numpy.savetxt(path3, test_y)\n",
        "#yhat.to_csv('output2.csv')\n",
        "#yhat.to_csv(brandname + 'yhat.csv', sep='\\t')\n",
        "#files.download(brandname + 'yhat.csv')\n",
        "pyplot.legend()\n",
        "pyplot.show()\n",
        "print('Test RMSE: %.3f' % rmse)"
      ]
    },
    {
      "cell_type": "code",
      "execution_count": 18,
      "metadata": {
        "id": "lvaUbzcojBHt",
        "colab": {
          "base_uri": "https://localhost:8080/",
          "height": 282
        },
        "outputId": "b31dcadc-795c-49b6-de76-c4661a127c50"
      },
      "outputs": [
        {
          "output_type": "stream",
          "name": "stderr",
          "text": [
            "WARNING:matplotlib.legend:No handles with labels found to put in legend.\n"
          ]
        },
        {
          "output_type": "display_data",
          "data": {
            "text/plain": [
              "<Figure size 432x288 with 1 Axes>"
            ],
            "image/png": "[encoded data removed]"
          },
          "metadata": {
            "needs_background": "light"
          }
        }
      ],
      "source": [
        "pyplot.scatter(test_y, yhat, color='blue', marker='.', s=10)\n",
        "pyplot.legend()\n",
        "pyplot.show()\n"
      ]
    }
  ],
  "metadata": {
    "accelerator": "GPU",
    "colab": {
      "collapsed_sections": [],
      "name": "crypto mvgruReg  yfinance.ipynb",
      "provenance": [],
      "authorship_tag": "ABX9TyMeJJnNBDojKknfgigh9mW7",
      "include_colab_link": true
    },
    "kernelspec": {
      "display_name": "Python 3",
      "name": "python3"
    }
  },
  "nbformat": 4,
  "nbformat_minor": 0
}